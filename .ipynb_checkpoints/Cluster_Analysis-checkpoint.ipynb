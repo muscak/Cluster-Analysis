{
 "cells": [
  {
   "cell_type": "markdown",
   "metadata": {
    "colab_type": "text",
    "id": "view-in-github"
   },
   "source": [
    "<a href=\"https://colab.research.google.com/github/muscak/Cluster-Analysis/blob/master/Cluster_Analysis.ipynb\" target=\"_parent\"><img src=\"https://colab.research.google.com/assets/colab-badge.svg\" alt=\"Open In Colab\"/></a>"
   ]
  },
  {
   "cell_type": "markdown",
   "metadata": {
    "id": "sVqdBDrPFOz8"
   },
   "source": [
    "# Cluster Analysis\n",
    "\n",
    "\n",
    "\n",
    "We're going to take the following approach:\n",
    "\n",
    "1. Problem definition\n",
    "2. Data\n",
    "3. Evaluation\n",
    "4. Modelling"
   ]
  },
  {
   "cell_type": "markdown",
   "metadata": {
    "id": "XpYoNicWFYI0"
   },
   "source": [
    "## Problem Definition"
   ]
  },
  {
   "cell_type": "markdown",
   "metadata": {
    "id": "Hv1Xni4nFbHa"
   },
   "source": [
    "## Data\n",
    "\n",
    "The sample dataset is taken from the [original repo of the book](https://github.com/gedeck/practical-statistics-for-data-scientists/blob/master/data/sp500_data.csv.gz). You can see the data dictionary [here](./Data/README.md)."
   ]
  },
  {
   "cell_type": "markdown",
   "metadata": {
    "id": "NCY1LSIeFpb1"
   },
   "source": [
    "## Evaluation\n",
    "\n",
    "<div class='alert alert-info' style='border-radius:10px;background-color:white;'>\n",
    "⚠️ Due to the nature of experimentation, the evaluation metric may change over time.\n",
    "</div>"
   ]
  },
  {
   "cell_type": "markdown",
   "metadata": {
    "id": "JkSsUy-PFBcv"
   },
   "source": [
    "## Import Libraries\n",
    "\n",
    "We're going to use:\n",
    "- [pandas](https://pandas.pydata.org/) for data analysis.\n",
    "- [NumPy](https://numpy.org/) for numerical operations.\n",
    "- [Matplotlib](https://matplotlib.org/) / [seaborn](https://seaborn.pydata.org/) for plotting or data visualization.\n",
    "- [Scikit-Learn](https://scikit-learn.org/stable/) for machine learning modelling and evaluation."
   ]
  },
  {
   "cell_type": "code",
   "execution_count": 14,
   "metadata": {
    "id": "WZsL9PNhENGM"
   },
   "outputs": [],
   "source": [
    "# Regular EDA (exploratory data analysis) and plotting libraries\n",
    "import numpy as np\n",
    "import pandas as pd\n",
    "import matplotlib.pyplot as plt\n",
    "import seaborn as sb\n",
    "sb.set(style=\"ticks\")\n",
    "# we want our plots to appear inside the notebook\n",
    "%matplotlib inline\n",
    "\n",
    "# Clustering Methods\n",
    "from sklearn.cluster import KMeans\n",
    "from scipy.cluster.hierarchy import linkage, dendrogram, fcluster"
   ]
  },
  {
   "cell_type": "markdown",
   "metadata": {
    "id": "lgELN5HIGB_d"
   },
   "source": [
    "## Load Data"
   ]
  },
  {
   "cell_type": "code",
   "execution_count": 3,
   "metadata": {
    "colab": {
     "base_uri": "https://localhost:8080/"
    },
    "id": "izhI_c9vEb0r",
    "outputId": "a7335b7f-5056-4994-9db4-b3d1d1eb996e"
   },
   "outputs": [
    {
     "data": {
      "text/plain": [
       "(5647, 517)"
      ]
     },
     "execution_count": 3,
     "metadata": {},
     "output_type": "execute_result"
    }
   ],
   "source": [
    "sp500_px = pd.read_csv('Data/sp500_data.csv.gz', index_col=0)\n",
    "sp500_px.shape"
   ]
  },
  {
   "cell_type": "markdown",
   "metadata": {
    "id": "lFyCO9lMGGbT"
   },
   "source": [
    "## Data Exploration (Exploratory Data Analysis - EDA)\n",
    "\n",
    "The goal here is to find out more about the data and become a subject matter export on the dataset you're working with.\n",
    "\n",
    "1. What question(s) are you trying to solve?\n",
    "2. What kind of data do we have and how do we treat different types?\n",
    "3. What's missing from the data and how do you deal with it?\n",
    "4. Where are the outliers and why should you care about them?\n",
    "5. How can you add, change or remove features to get more out of your data?"
   ]
  },
  {
   "cell_type": "code",
   "execution_count": 5,
   "metadata": {
    "id": "Ujj-HlhtEvgG"
   },
   "outputs": [
    {
     "data": {
      "text/html": [
       "<div>\n",
       "<style scoped>\n",
       "    .dataframe tbody tr th:only-of-type {\n",
       "        vertical-align: middle;\n",
       "    }\n",
       "\n",
       "    .dataframe tbody tr th {\n",
       "        vertical-align: top;\n",
       "    }\n",
       "\n",
       "    .dataframe thead th {\n",
       "        text-align: right;\n",
       "    }\n",
       "</style>\n",
       "<table border=\"1\" class=\"dataframe\">\n",
       "  <thead>\n",
       "    <tr style=\"text-align: right;\">\n",
       "      <th></th>\n",
       "      <th>ADS</th>\n",
       "      <th>CA</th>\n",
       "      <th>MSFT</th>\n",
       "      <th>RHT</th>\n",
       "      <th>CTSH</th>\n",
       "      <th>CSC</th>\n",
       "      <th>EMC</th>\n",
       "      <th>IBM</th>\n",
       "      <th>XRX</th>\n",
       "      <th>ALTR</th>\n",
       "      <th>...</th>\n",
       "      <th>WAT</th>\n",
       "      <th>ALXN</th>\n",
       "      <th>AMGN</th>\n",
       "      <th>BXLT</th>\n",
       "      <th>BIIB</th>\n",
       "      <th>CELG</th>\n",
       "      <th>GILD</th>\n",
       "      <th>REGN</th>\n",
       "      <th>VRTX</th>\n",
       "      <th>HSIC</th>\n",
       "    </tr>\n",
       "  </thead>\n",
       "  <tbody>\n",
       "    <tr>\n",
       "      <th>1993-01-29</th>\n",
       "      <td>0.0</td>\n",
       "      <td>0.060124</td>\n",
       "      <td>-0.022100</td>\n",
       "      <td>0.0</td>\n",
       "      <td>0.0</td>\n",
       "      <td>0.018897</td>\n",
       "      <td>0.007368</td>\n",
       "      <td>0.092165</td>\n",
       "      <td>0.259140</td>\n",
       "      <td>-0.007105</td>\n",
       "      <td>...</td>\n",
       "      <td>0.0</td>\n",
       "      <td>0.0</td>\n",
       "      <td>0.34716</td>\n",
       "      <td>0.0</td>\n",
       "      <td>0.04167</td>\n",
       "      <td>0.00000</td>\n",
       "      <td>0.015564</td>\n",
       "      <td>1.75</td>\n",
       "      <td>0.1250</td>\n",
       "      <td>0.0</td>\n",
       "    </tr>\n",
       "    <tr>\n",
       "      <th>1993-02-01</th>\n",
       "      <td>0.0</td>\n",
       "      <td>-0.180389</td>\n",
       "      <td>0.027621</td>\n",
       "      <td>0.0</td>\n",
       "      <td>0.0</td>\n",
       "      <td>0.018889</td>\n",
       "      <td>0.018425</td>\n",
       "      <td>0.115207</td>\n",
       "      <td>-0.100775</td>\n",
       "      <td>0.063893</td>\n",
       "      <td>...</td>\n",
       "      <td>0.0</td>\n",
       "      <td>0.0</td>\n",
       "      <td>-0.23144</td>\n",
       "      <td>0.0</td>\n",
       "      <td>0.00000</td>\n",
       "      <td>-0.01041</td>\n",
       "      <td>0.007782</td>\n",
       "      <td>1.25</td>\n",
       "      <td>0.1250</td>\n",
       "      <td>0.0</td>\n",
       "    </tr>\n",
       "    <tr>\n",
       "      <th>1993-02-02</th>\n",
       "      <td>0.0</td>\n",
       "      <td>-0.120257</td>\n",
       "      <td>0.035900</td>\n",
       "      <td>0.0</td>\n",
       "      <td>0.0</td>\n",
       "      <td>-0.075573</td>\n",
       "      <td>0.029482</td>\n",
       "      <td>-0.023041</td>\n",
       "      <td>0.028796</td>\n",
       "      <td>-0.014192</td>\n",
       "      <td>...</td>\n",
       "      <td>0.0</td>\n",
       "      <td>0.0</td>\n",
       "      <td>-0.11572</td>\n",
       "      <td>0.0</td>\n",
       "      <td>0.00000</td>\n",
       "      <td>0.00000</td>\n",
       "      <td>-0.007792</td>\n",
       "      <td>-0.25</td>\n",
       "      <td>0.0000</td>\n",
       "      <td>0.0</td>\n",
       "    </tr>\n",
       "    <tr>\n",
       "      <th>1993-02-03</th>\n",
       "      <td>0.0</td>\n",
       "      <td>0.060124</td>\n",
       "      <td>-0.024857</td>\n",
       "      <td>0.0</td>\n",
       "      <td>0.0</td>\n",
       "      <td>-0.151128</td>\n",
       "      <td>0.003689</td>\n",
       "      <td>-0.253454</td>\n",
       "      <td>-0.043190</td>\n",
       "      <td>-0.007105</td>\n",
       "      <td>...</td>\n",
       "      <td>0.0</td>\n",
       "      <td>0.0</td>\n",
       "      <td>-0.08679</td>\n",
       "      <td>0.0</td>\n",
       "      <td>0.04167</td>\n",
       "      <td>-0.04167</td>\n",
       "      <td>-0.038919</td>\n",
       "      <td>-0.50</td>\n",
       "      <td>0.0625</td>\n",
       "      <td>0.0</td>\n",
       "    </tr>\n",
       "    <tr>\n",
       "      <th>1993-02-04</th>\n",
       "      <td>0.0</td>\n",
       "      <td>-0.360770</td>\n",
       "      <td>-0.060757</td>\n",
       "      <td>0.0</td>\n",
       "      <td>0.0</td>\n",
       "      <td>0.113350</td>\n",
       "      <td>-0.022114</td>\n",
       "      <td>0.069862</td>\n",
       "      <td>0.000000</td>\n",
       "      <td>-0.007096</td>\n",
       "      <td>...</td>\n",
       "      <td>0.0</td>\n",
       "      <td>0.0</td>\n",
       "      <td>0.14465</td>\n",
       "      <td>0.0</td>\n",
       "      <td>-0.04166</td>\n",
       "      <td>-0.03126</td>\n",
       "      <td>-0.046711</td>\n",
       "      <td>0.00</td>\n",
       "      <td>0.0625</td>\n",
       "      <td>0.0</td>\n",
       "    </tr>\n",
       "  </tbody>\n",
       "</table>\n",
       "<p>5 rows × 517 columns</p>\n",
       "</div>"
      ],
      "text/plain": [
       "            ADS        CA      MSFT  RHT  CTSH       CSC       EMC       IBM  \\\n",
       "1993-01-29  0.0  0.060124 -0.022100  0.0   0.0  0.018897  0.007368  0.092165   \n",
       "1993-02-01  0.0 -0.180389  0.027621  0.0   0.0  0.018889  0.018425  0.115207   \n",
       "1993-02-02  0.0 -0.120257  0.035900  0.0   0.0 -0.075573  0.029482 -0.023041   \n",
       "1993-02-03  0.0  0.060124 -0.024857  0.0   0.0 -0.151128  0.003689 -0.253454   \n",
       "1993-02-04  0.0 -0.360770 -0.060757  0.0   0.0  0.113350 -0.022114  0.069862   \n",
       "\n",
       "                 XRX      ALTR  ...  WAT  ALXN     AMGN  BXLT     BIIB  \\\n",
       "1993-01-29  0.259140 -0.007105  ...  0.0   0.0  0.34716   0.0  0.04167   \n",
       "1993-02-01 -0.100775  0.063893  ...  0.0   0.0 -0.23144   0.0  0.00000   \n",
       "1993-02-02  0.028796 -0.014192  ...  0.0   0.0 -0.11572   0.0  0.00000   \n",
       "1993-02-03 -0.043190 -0.007105  ...  0.0   0.0 -0.08679   0.0  0.04167   \n",
       "1993-02-04  0.000000 -0.007096  ...  0.0   0.0  0.14465   0.0 -0.04166   \n",
       "\n",
       "               CELG      GILD  REGN    VRTX  HSIC  \n",
       "1993-01-29  0.00000  0.015564  1.75  0.1250   0.0  \n",
       "1993-02-01 -0.01041  0.007782  1.25  0.1250   0.0  \n",
       "1993-02-02  0.00000 -0.007792 -0.25  0.0000   0.0  \n",
       "1993-02-03 -0.04167 -0.038919 -0.50  0.0625   0.0  \n",
       "1993-02-04 -0.03126 -0.046711  0.00  0.0625   0.0  \n",
       "\n",
       "[5 rows x 517 columns]"
      ]
     },
     "execution_count": 5,
     "metadata": {},
     "output_type": "execute_result"
    }
   ],
   "source": [
    "sp500_px.head()"
   ]
  },
  {
   "cell_type": "code",
   "execution_count": 6,
   "metadata": {},
   "outputs": [
    {
     "data": {
      "text/html": [
       "<div>\n",
       "<style scoped>\n",
       "    .dataframe tbody tr th:only-of-type {\n",
       "        vertical-align: middle;\n",
       "    }\n",
       "\n",
       "    .dataframe tbody tr th {\n",
       "        vertical-align: top;\n",
       "    }\n",
       "\n",
       "    .dataframe thead th {\n",
       "        text-align: right;\n",
       "    }\n",
       "</style>\n",
       "<table border=\"1\" class=\"dataframe\">\n",
       "  <thead>\n",
       "    <tr style=\"text-align: right;\">\n",
       "      <th></th>\n",
       "      <th>ADS</th>\n",
       "      <th>CA</th>\n",
       "      <th>MSFT</th>\n",
       "      <th>RHT</th>\n",
       "      <th>CTSH</th>\n",
       "      <th>CSC</th>\n",
       "      <th>EMC</th>\n",
       "      <th>IBM</th>\n",
       "      <th>XRX</th>\n",
       "      <th>ALTR</th>\n",
       "      <th>...</th>\n",
       "      <th>WAT</th>\n",
       "      <th>ALXN</th>\n",
       "      <th>AMGN</th>\n",
       "      <th>BXLT</th>\n",
       "      <th>BIIB</th>\n",
       "      <th>CELG</th>\n",
       "      <th>GILD</th>\n",
       "      <th>REGN</th>\n",
       "      <th>VRTX</th>\n",
       "      <th>HSIC</th>\n",
       "    </tr>\n",
       "  </thead>\n",
       "  <tbody>\n",
       "    <tr>\n",
       "      <th>2015-06-25</th>\n",
       "      <td>0.019989</td>\n",
       "      <td>-0.529999</td>\n",
       "      <td>-0.379997</td>\n",
       "      <td>0.080002</td>\n",
       "      <td>0.350003</td>\n",
       "      <td>-0.580002</td>\n",
       "      <td>-0.457999</td>\n",
       "      <td>-1.720001</td>\n",
       "      <td>-0.009936</td>\n",
       "      <td>0.039997</td>\n",
       "      <td>...</td>\n",
       "      <td>-2.500000</td>\n",
       "      <td>1.889999</td>\n",
       "      <td>-2.060012</td>\n",
       "      <td>0.150002</td>\n",
       "      <td>-1.630004</td>\n",
       "      <td>-0.990005</td>\n",
       "      <td>-2.250000</td>\n",
       "      <td>1.270019</td>\n",
       "      <td>-1.919998</td>\n",
       "      <td>-0.080002</td>\n",
       "    </tr>\n",
       "    <tr>\n",
       "      <th>2015-06-26</th>\n",
       "      <td>-1.299988</td>\n",
       "      <td>-0.330000</td>\n",
       "      <td>-0.390004</td>\n",
       "      <td>-1.820000</td>\n",
       "      <td>0.190003</td>\n",
       "      <td>0.330002</td>\n",
       "      <td>-0.328565</td>\n",
       "      <td>-0.769989</td>\n",
       "      <td>0.020000</td>\n",
       "      <td>0.000000</td>\n",
       "      <td>...</td>\n",
       "      <td>-0.070007</td>\n",
       "      <td>-2.380005</td>\n",
       "      <td>-1.390000</td>\n",
       "      <td>0.550004</td>\n",
       "      <td>-3.509979</td>\n",
       "      <td>-1.080002</td>\n",
       "      <td>-0.800003</td>\n",
       "      <td>-1.900024</td>\n",
       "      <td>-3.629997</td>\n",
       "      <td>0.440002</td>\n",
       "    </tr>\n",
       "    <tr>\n",
       "      <th>2015-06-29</th>\n",
       "      <td>-10.299988</td>\n",
       "      <td>-0.410000</td>\n",
       "      <td>-0.670002</td>\n",
       "      <td>-1.250000</td>\n",
       "      <td>-1.919998</td>\n",
       "      <td>-0.510002</td>\n",
       "      <td>-0.139999</td>\n",
       "      <td>-0.949997</td>\n",
       "      <td>-0.100000</td>\n",
       "      <td>-0.040001</td>\n",
       "      <td>...</td>\n",
       "      <td>-2.250000</td>\n",
       "      <td>-5.490005</td>\n",
       "      <td>-5.029999</td>\n",
       "      <td>0.090000</td>\n",
       "      <td>-8.290009</td>\n",
       "      <td>-1.209999</td>\n",
       "      <td>-2.419998</td>\n",
       "      <td>-9.620026</td>\n",
       "      <td>-3.770004</td>\n",
       "      <td>-2.479996</td>\n",
       "    </tr>\n",
       "    <tr>\n",
       "      <th>2015-06-30</th>\n",
       "      <td>-2.109986</td>\n",
       "      <td>-0.049999</td>\n",
       "      <td>-0.559997</td>\n",
       "      <td>-0.099999</td>\n",
       "      <td>-0.689999</td>\n",
       "      <td>-0.610001</td>\n",
       "      <td>0.239999</td>\n",
       "      <td>-1.330001</td>\n",
       "      <td>-0.200000</td>\n",
       "      <td>0.020001</td>\n",
       "      <td>...</td>\n",
       "      <td>-0.299988</td>\n",
       "      <td>0.270004</td>\n",
       "      <td>0.279999</td>\n",
       "      <td>-1.710001</td>\n",
       "      <td>0.390014</td>\n",
       "      <td>0.439995</td>\n",
       "      <td>-0.209999</td>\n",
       "      <td>-2.070007</td>\n",
       "      <td>-0.849999</td>\n",
       "      <td>-1.360001</td>\n",
       "    </tr>\n",
       "    <tr>\n",
       "      <th>2015-07-01</th>\n",
       "      <td>-1.210022</td>\n",
       "      <td>0.020000</td>\n",
       "      <td>-0.009998</td>\n",
       "      <td>0.869995</td>\n",
       "      <td>0.329998</td>\n",
       "      <td>-0.190003</td>\n",
       "      <td>-0.039999</td>\n",
       "      <td>0.520004</td>\n",
       "      <td>-0.030000</td>\n",
       "      <td>-0.079998</td>\n",
       "      <td>...</td>\n",
       "      <td>-0.250000</td>\n",
       "      <td>1.270005</td>\n",
       "      <td>0.050003</td>\n",
       "      <td>-1.380001</td>\n",
       "      <td>-2.910003</td>\n",
       "      <td>1.180000</td>\n",
       "      <td>-2.099999</td>\n",
       "      <td>-8.719970</td>\n",
       "      <td>2.080001</td>\n",
       "      <td>0.940002</td>\n",
       "    </tr>\n",
       "  </tbody>\n",
       "</table>\n",
       "<p>5 rows × 517 columns</p>\n",
       "</div>"
      ],
      "text/plain": [
       "                  ADS        CA      MSFT       RHT      CTSH       CSC  \\\n",
       "2015-06-25   0.019989 -0.529999 -0.379997  0.080002  0.350003 -0.580002   \n",
       "2015-06-26  -1.299988 -0.330000 -0.390004 -1.820000  0.190003  0.330002   \n",
       "2015-06-29 -10.299988 -0.410000 -0.670002 -1.250000 -1.919998 -0.510002   \n",
       "2015-06-30  -2.109986 -0.049999 -0.559997 -0.099999 -0.689999 -0.610001   \n",
       "2015-07-01  -1.210022  0.020000 -0.009998  0.869995  0.329998 -0.190003   \n",
       "\n",
       "                 EMC       IBM       XRX      ALTR  ...       WAT      ALXN  \\\n",
       "2015-06-25 -0.457999 -1.720001 -0.009936  0.039997  ... -2.500000  1.889999   \n",
       "2015-06-26 -0.328565 -0.769989  0.020000  0.000000  ... -0.070007 -2.380005   \n",
       "2015-06-29 -0.139999 -0.949997 -0.100000 -0.040001  ... -2.250000 -5.490005   \n",
       "2015-06-30  0.239999 -1.330001 -0.200000  0.020001  ... -0.299988  0.270004   \n",
       "2015-07-01 -0.039999  0.520004 -0.030000 -0.079998  ... -0.250000  1.270005   \n",
       "\n",
       "                AMGN      BXLT      BIIB      CELG      GILD      REGN  \\\n",
       "2015-06-25 -2.060012  0.150002 -1.630004 -0.990005 -2.250000  1.270019   \n",
       "2015-06-26 -1.390000  0.550004 -3.509979 -1.080002 -0.800003 -1.900024   \n",
       "2015-06-29 -5.029999  0.090000 -8.290009 -1.209999 -2.419998 -9.620026   \n",
       "2015-06-30  0.279999 -1.710001  0.390014  0.439995 -0.209999 -2.070007   \n",
       "2015-07-01  0.050003 -1.380001 -2.910003  1.180000 -2.099999 -8.719970   \n",
       "\n",
       "                VRTX      HSIC  \n",
       "2015-06-25 -1.919998 -0.080002  \n",
       "2015-06-26 -3.629997  0.440002  \n",
       "2015-06-29 -3.770004 -2.479996  \n",
       "2015-06-30 -0.849999 -1.360001  \n",
       "2015-07-01  2.080001  0.940002  \n",
       "\n",
       "[5 rows x 517 columns]"
      ]
     },
     "execution_count": 6,
     "metadata": {},
     "output_type": "execute_result"
    }
   ],
   "source": [
    "sp500_px.tail()"
   ]
  },
  {
   "cell_type": "code",
   "execution_count": 7,
   "metadata": {},
   "outputs": [
    {
     "data": {
      "text/html": [
       "<div>\n",
       "<style scoped>\n",
       "    .dataframe tbody tr th:only-of-type {\n",
       "        vertical-align: middle;\n",
       "    }\n",
       "\n",
       "    .dataframe tbody tr th {\n",
       "        vertical-align: top;\n",
       "    }\n",
       "\n",
       "    .dataframe thead th {\n",
       "        text-align: right;\n",
       "    }\n",
       "</style>\n",
       "<table border=\"1\" class=\"dataframe\">\n",
       "  <thead>\n",
       "    <tr style=\"text-align: right;\">\n",
       "      <th></th>\n",
       "      <th>XOM</th>\n",
       "      <th>CVX</th>\n",
       "    </tr>\n",
       "  </thead>\n",
       "  <tbody>\n",
       "    <tr>\n",
       "      <th>1993-01-29</th>\n",
       "      <td>-0.016991</td>\n",
       "      <td>0.072921</td>\n",
       "    </tr>\n",
       "    <tr>\n",
       "      <th>1993-02-01</th>\n",
       "      <td>0.016991</td>\n",
       "      <td>0.102089</td>\n",
       "    </tr>\n",
       "    <tr>\n",
       "      <th>1993-02-02</th>\n",
       "      <td>0.084954</td>\n",
       "      <td>0.029168</td>\n",
       "    </tr>\n",
       "    <tr>\n",
       "      <th>1993-02-03</th>\n",
       "      <td>0.067964</td>\n",
       "      <td>0.058337</td>\n",
       "    </tr>\n",
       "    <tr>\n",
       "      <th>1993-02-04</th>\n",
       "      <td>0.034378</td>\n",
       "      <td>0.044272</td>\n",
       "    </tr>\n",
       "  </tbody>\n",
       "</table>\n",
       "</div>"
      ],
      "text/plain": [
       "                 XOM       CVX\n",
       "1993-01-29 -0.016991  0.072921\n",
       "1993-02-01  0.016991  0.102089\n",
       "1993-02-02  0.084954  0.029168\n",
       "1993-02-03  0.067964  0.058337\n",
       "1993-02-04  0.034378  0.044272"
      ]
     },
     "execution_count": 7,
     "metadata": {},
     "output_type": "execute_result"
    }
   ],
   "source": [
    "# Filter it for ExxonMobil (XOM) and Chevron (CVX):\n",
    "oil_px = sp500_px[['XOM', 'CVX']]\n",
    "oil_px.head()"
   ]
  },
  {
   "cell_type": "code",
   "execution_count": 11,
   "metadata": {},
   "outputs": [
    {
     "name": "stdout",
     "output_type": "stream",
     "text": [
      "<class 'pandas.core.frame.DataFrame'>\n",
      "Index: 1131 entries, 2011-01-03 to 2015-07-01\n",
      "Data columns (total 2 columns):\n",
      " #   Column  Non-Null Count  Dtype  \n",
      "---  ------  --------------  -----  \n",
      " 0   XOM     1131 non-null   float64\n",
      " 1   CVX     1131 non-null   float64\n",
      "dtypes: float64(2)\n",
      "memory usage: 26.5+ KB\n"
     ]
    }
   ],
   "source": [
    "# Collect the data for the last 1 year of XOM and CVX\n",
    "df = sp500_px.loc[sp500_px.index >= '2011-01-01', ['XOM', 'CVX']]\n",
    "df.info()"
   ]
  },
  {
   "cell_type": "code",
   "execution_count": 25,
   "metadata": {},
   "outputs": [
    {
     "data": {
      "text/html": [
       "<div>\n",
       "<style scoped>\n",
       "    .dataframe tbody tr th:only-of-type {\n",
       "        vertical-align: middle;\n",
       "    }\n",
       "\n",
       "    .dataframe tbody tr th {\n",
       "        vertical-align: top;\n",
       "    }\n",
       "\n",
       "    .dataframe thead th {\n",
       "        text-align: right;\n",
       "    }\n",
       "</style>\n",
       "<table border=\"1\" class=\"dataframe\">\n",
       "  <thead>\n",
       "    <tr style=\"text-align: right;\">\n",
       "      <th></th>\n",
       "      <th>XOM</th>\n",
       "      <th>CVX</th>\n",
       "      <th>cluster</th>\n",
       "    </tr>\n",
       "  </thead>\n",
       "  <tbody>\n",
       "    <tr>\n",
       "      <th>count</th>\n",
       "      <td>1131.000000</td>\n",
       "      <td>1131.000000</td>\n",
       "      <td>1131.000000</td>\n",
       "    </tr>\n",
       "    <tr>\n",
       "      <th>mean</th>\n",
       "      <td>0.030101</td>\n",
       "      <td>-0.004291</td>\n",
       "      <td>1.580018</td>\n",
       "    </tr>\n",
       "    <tr>\n",
       "      <th>std</th>\n",
       "      <td>0.717408</td>\n",
       "      <td>0.969030</td>\n",
       "      <td>1.306725</td>\n",
       "    </tr>\n",
       "    <tr>\n",
       "      <th>min</th>\n",
       "      <td>-2.950534</td>\n",
       "      <td>-4.363233</td>\n",
       "      <td>0.000000</td>\n",
       "    </tr>\n",
       "    <tr>\n",
       "      <th>25%</th>\n",
       "      <td>-0.383839</td>\n",
       "      <td>-0.577478</td>\n",
       "      <td>0.000000</td>\n",
       "    </tr>\n",
       "    <tr>\n",
       "      <th>50%</th>\n",
       "      <td>0.036802</td>\n",
       "      <td>0.029151</td>\n",
       "      <td>2.000000</td>\n",
       "    </tr>\n",
       "    <tr>\n",
       "      <th>75%</th>\n",
       "      <td>0.482905</td>\n",
       "      <td>0.604025</td>\n",
       "      <td>3.000000</td>\n",
       "    </tr>\n",
       "    <tr>\n",
       "      <th>max</th>\n",
       "      <td>3.376449</td>\n",
       "      <td>4.049643</td>\n",
       "      <td>3.000000</td>\n",
       "    </tr>\n",
       "  </tbody>\n",
       "</table>\n",
       "</div>"
      ],
      "text/plain": [
       "               XOM          CVX      cluster\n",
       "count  1131.000000  1131.000000  1131.000000\n",
       "mean      0.030101    -0.004291     1.580018\n",
       "std       0.717408     0.969030     1.306725\n",
       "min      -2.950534    -4.363233     0.000000\n",
       "25%      -0.383839    -0.577478     0.000000\n",
       "50%       0.036802     0.029151     2.000000\n",
       "75%       0.482905     0.604025     3.000000\n",
       "max       3.376449     4.049643     3.000000"
      ]
     },
     "execution_count": 25,
     "metadata": {},
     "output_type": "execute_result"
    }
   ],
   "source": [
    "df.describe()"
   ]
  },
  {
   "cell_type": "markdown",
   "metadata": {},
   "source": [
    "## Data Preprocessing\n",
    "\n",
    "> Unsupervised learning techniques generally require that the data be appropriately scaled.\n",
    "\n",
    "This is not the case for our exercise as the XOM and CVX values are almost on the same scale as can be seen from the above table.\n",
    "\n",
    "> In the case of categorical data, you must convert it to numeric data, either by ranking (for an ordered factor) or by encoding as a set of binary (dummy) variables.\n",
    "\n",
    "Again, since our sample dataset does not contain any categorical values, this requirement is also not applicable."
   ]
  },
  {
   "cell_type": "markdown",
   "metadata": {},
   "source": [
    "## $k$-Means Clustering"
   ]
  },
  {
   "cell_type": "code",
   "execution_count": 27,
   "metadata": {},
   "outputs": [
    {
     "data": {
      "text/html": [
       "<div>\n",
       "<style scoped>\n",
       "    .dataframe tbody tr th:only-of-type {\n",
       "        vertical-align: middle;\n",
       "    }\n",
       "\n",
       "    .dataframe tbody tr th {\n",
       "        vertical-align: top;\n",
       "    }\n",
       "\n",
       "    .dataframe thead th {\n",
       "        text-align: right;\n",
       "    }\n",
       "</style>\n",
       "<table border=\"1\" class=\"dataframe\">\n",
       "  <thead>\n",
       "    <tr style=\"text-align: right;\">\n",
       "      <th></th>\n",
       "      <th>XOM</th>\n",
       "      <th>CVX</th>\n",
       "      <th>cluster</th>\n",
       "    </tr>\n",
       "  </thead>\n",
       "  <tbody>\n",
       "    <tr>\n",
       "      <th>2011-01-03</th>\n",
       "      <td>0.736805</td>\n",
       "      <td>0.240681</td>\n",
       "      <td>0</td>\n",
       "    </tr>\n",
       "    <tr>\n",
       "      <th>2011-01-04</th>\n",
       "      <td>0.168668</td>\n",
       "      <td>-0.584516</td>\n",
       "      <td>1</td>\n",
       "    </tr>\n",
       "    <tr>\n",
       "      <th>2011-01-05</th>\n",
       "      <td>0.026631</td>\n",
       "      <td>0.446985</td>\n",
       "      <td>0</td>\n",
       "    </tr>\n",
       "    <tr>\n",
       "      <th>2011-01-06</th>\n",
       "      <td>0.248558</td>\n",
       "      <td>-0.919751</td>\n",
       "      <td>1</td>\n",
       "    </tr>\n",
       "    <tr>\n",
       "      <th>2011-01-07</th>\n",
       "      <td>0.337329</td>\n",
       "      <td>0.180511</td>\n",
       "      <td>0</td>\n",
       "    </tr>\n",
       "  </tbody>\n",
       "</table>\n",
       "</div>"
      ],
      "text/plain": [
       "                 XOM       CVX  cluster\n",
       "2011-01-03  0.736805  0.240681        0\n",
       "2011-01-04  0.168668 -0.584516        1\n",
       "2011-01-05  0.026631  0.446985        0\n",
       "2011-01-06  0.248558 -0.919751        1\n",
       "2011-01-07  0.337329  0.180511        0"
      ]
     },
     "execution_count": 27,
     "metadata": {},
     "output_type": "execute_result"
    }
   ],
   "source": [
    "kmeans = KMeans(n_clusters=4, n_init=10).fit(df)\n",
    "df['cluster'] = kmeans.labels_\n",
    "df.head()"
   ]
  },
  {
   "cell_type": "code",
   "execution_count": 16,
   "metadata": {},
   "outputs": [
    {
     "data": {
      "text/html": [
       "<div>\n",
       "<style scoped>\n",
       "    .dataframe tbody tr th:only-of-type {\n",
       "        vertical-align: middle;\n",
       "    }\n",
       "\n",
       "    .dataframe tbody tr th {\n",
       "        vertical-align: top;\n",
       "    }\n",
       "\n",
       "    .dataframe thead th {\n",
       "        text-align: right;\n",
       "    }\n",
       "</style>\n",
       "<table border=\"1\" class=\"dataframe\">\n",
       "  <thead>\n",
       "    <tr style=\"text-align: right;\">\n",
       "      <th></th>\n",
       "      <th>XOM</th>\n",
       "      <th>CVX</th>\n",
       "    </tr>\n",
       "  </thead>\n",
       "  <tbody>\n",
       "    <tr>\n",
       "      <th>0</th>\n",
       "      <td>-0.328742</td>\n",
       "      <td>-0.573470</td>\n",
       "    </tr>\n",
       "    <tr>\n",
       "      <th>1</th>\n",
       "      <td>0.927032</td>\n",
       "      <td>1.346412</td>\n",
       "    </tr>\n",
       "    <tr>\n",
       "      <th>2</th>\n",
       "      <td>-1.143980</td>\n",
       "      <td>-1.750297</td>\n",
       "    </tr>\n",
       "    <tr>\n",
       "      <th>3</th>\n",
       "      <td>0.231540</td>\n",
       "      <td>0.316965</td>\n",
       "    </tr>\n",
       "  </tbody>\n",
       "</table>\n",
       "</div>"
      ],
      "text/plain": [
       "        XOM       CVX\n",
       "0 -0.328742 -0.573470\n",
       "1  0.927032  1.346412\n",
       "2 -1.143980 -1.750297\n",
       "3  0.231540  0.316965"
      ]
     },
     "execution_count": 16,
     "metadata": {},
     "output_type": "execute_result"
    }
   ],
   "source": [
    "centers = pd.DataFrame(kmeans.cluster_centers_, columns=['XOM', 'CVX'])\n",
    "centers"
   ]
  },
  {
   "cell_type": "code",
   "execution_count": 20,
   "metadata": {},
   "outputs": [
    {
     "data": {
      "image/png": "[encoded data removed]",
      "text/plain": [
       "<Figure size 600x600 with 1 Axes>"
      ]
     },
     "metadata": {},
     "output_type": "display_data"
    }
   ],
   "source": [
    "fig, ax = plt.subplots(figsize=(6, 6))\n",
    "ax = sb.scatterplot(data=df, x='XOM', y='CVX', hue='cluster', style='cluster', ax=ax)\n",
    "ax.set_xlim(-3, 3)\n",
    "ax.set_ylim(-3, 3)\n",
    "centers.plot.scatter(x='XOM', y='CVX', ax=ax, color='red', s=100)\n",
    "plt.show()"
   ]
  },
  {
   "cell_type": "markdown",
   "metadata": {},
   "source": [
    "### Selecting the Number of Clusters\n",
    "\n",
    "Using elbow method. We'll check the WCSS (within clusters sum of squares aka. distance between points in a cluster or inertia). \n",
    "\n",
    "$d(A, B) = d(B, A) = \\sqrt{(a_1-b_1)^2 + (a_2 - b_2)^2 + ... + (a_n - b_n)^2}$\n",
    "\n",
    "Our target should have the WCSS small enough to be abel to interpret them properly."
   ]
  },
  {
   "cell_type": "code",
   "execution_count": 24,
   "metadata": {},
   "outputs": [
    {
     "data": {
      "image/png": "[encoded data removed]",
      "text/plain": [
       "<Figure size 640x480 with 1 Axes>"
      ]
     },
     "metadata": {},
     "output_type": "display_data"
    }
   ],
   "source": [
    "inertias = []\n",
    "\n",
    "for n_cluster in range(2, 15):\n",
    "    kmeans = KMeans(n_clusters=n_cluster, random_state=101, n_init=10).fit(df)\n",
    "    inertias.append(kmeans.inertia_ / n_cluster)\n",
    "    \n",
    "df_inertia = pd.DataFrame({'n_cluster': range(2, 15), 'inertia':inertias})\n",
    "\n",
    "ax = df_inertia.plot(x='n_cluster', y='inertia')\n",
    "plt.xlabel('Number of clusters ($k$)')\n",
    "plt.ylabel('Average within-cluster squared distance')\n",
    "ax.legend().set_visible(False)\n",
    "plt.show()"
   ]
  },
  {
   "cell_type": "code",
   "execution_count": null,
   "metadata": {},
   "outputs": [],
   "source": []
  },
  {
   "cell_type": "code",
   "execution_count": null,
   "metadata": {},
   "outputs": [],
   "source": []
  },
  {
   "cell_type": "markdown",
   "metadata": {},
   "source": [
    "## Hierarchical Clustering"
   ]
  },
  {
   "cell_type": "code",
   "execution_count": null,
   "metadata": {},
   "outputs": [],
   "source": []
  },
  {
   "cell_type": "code",
   "execution_count": null,
   "metadata": {},
   "outputs": [],
   "source": []
  },
  {
   "cell_type": "markdown",
   "metadata": {},
   "source": [
    "## Model-Based Clustering"
   ]
  },
  {
   "cell_type": "code",
   "execution_count": null,
   "metadata": {},
   "outputs": [],
   "source": []
  },
  {
   "cell_type": "code",
   "execution_count": null,
   "metadata": {},
   "outputs": [],
   "source": []
  }
 ],
 "metadata": {
  "colab": {
   "authorship_tag": "ABX9TyMf6YqwLu+SszjGEqoVRIMJ",
   "include_colab_link": true,
   "provenance": []
  },
  "kernelspec": {
   "display_name": "Python 3 (ipykernel)",
   "language": "python",
   "name": "python3"
  },
  "language_info": {
   "codemirror_mode": {
    "name": "ipython",
    "version": 3
   },
   "file_extension": ".py",
   "mimetype": "text/x-python",
   "name": "python",
   "nbconvert_exporter": "python",
   "pygments_lexer": "ipython3",
   "version": "3.10.6"
  }
 },
 "nbformat": 4,
 "nbformat_minor": 4
}
