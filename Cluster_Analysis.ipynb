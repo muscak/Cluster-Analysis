{
  "nbformat": 4,
  "nbformat_minor": 0,
  "metadata": {
    "colab": {
      "provenance": [],
      "authorship_tag": "ABX9TyMf6YqwLu+SszjGEqoVRIMJ",
      "include_colab_link": true
    },
    "kernelspec": {
      "name": "python3",
      "display_name": "Python 3"
    },
    "language_info": {
      "name": "python"
    }
  },
  "cells": [
    {
      "cell_type": "markdown",
      "metadata": {
        "id": "view-in-github",
        "colab_type": "text"
      },
      "source": [
        "<a href=\"https://colab.research.google.com/github/muscak/Cluster-Analysis/blob/master/Cluster_Analysis.ipynb\" target=\"_parent\"><img src=\"https://colab.research.google.com/assets/colab-badge.svg\" alt=\"Open In Colab\"/></a>"
      ]
    },
    {
      "cell_type": "markdown",
      "source": [
        "# Cluster Analysis\n",
        "\n",
        "\n",
        "\n",
        "We're going to take the following approach:\n",
        "\n",
        "1. Problem definition\n",
        "2. Data\n",
        "3. Evaluation\n",
        "4. Modelling"
      ],
      "metadata": {
        "id": "sVqdBDrPFOz8"
      }
    },
    {
      "cell_type": "markdown",
      "source": [
        "## Problem Definition"
      ],
      "metadata": {
        "id": "XpYoNicWFYI0"
      }
    },
    {
      "cell_type": "markdown",
      "source": [
        "## Data\n",
        "\n",
        "The sample dataset is taken from [Kaggle](https://www.kaggle.com/datasets/camnugent/sandp500?select=all_stocks_5yr.csv). The dataset has 7 features to be used. You can see the data dictionary [here](./Data/README.md)."
      ],
      "metadata": {
        "id": "Hv1Xni4nFbHa"
      }
    },
    {
      "cell_type": "markdown",
      "source": [
        "## Evaluation\n",
        "\n",
        "<div class='alert alert-info' style='border-radius:10px;background-color:white;'>\n",
        "⚠️ Due to the nature of experimentation, the evaluation metric may change over time.\n",
        "</div>"
      ],
      "metadata": {
        "id": "NCY1LSIeFpb1"
      }
    },
    {
      "cell_type": "markdown",
      "source": [
        "## Import Libraries\n",
        "\n",
        "We're going to use:\n",
        "- [pandas](https://pandas.pydata.org/) for data analysis.\n",
        "- [NumPy](https://numpy.org/) for numerical operations.\n",
        "- [Matplotlib](https://matplotlib.org/) / [seaborn](https://seaborn.pydata.org/) for plotting or data visualization.\n",
        "- [Scikit-Learn](https://scikit-learn.org/stable/) for machine learning modelling and evaluation."
      ],
      "metadata": {
        "id": "JkSsUy-PFBcv"
      }
    },
    {
      "cell_type": "code",
      "execution_count": 1,
      "metadata": {
        "id": "WZsL9PNhENGM"
      },
      "outputs": [],
      "source": [
        "# Regular EDA (exploratory data analysis) and plotting libraries\n",
        "import numpy as np\n",
        "import pandas as pd\n",
        "import matplotlib.pyplot as plt\n",
        "import seaborn as sb\n",
        "sb.set(style=\"ticks\")\n",
        "# we want our plots to appear inside the notebook\n",
        "%matplotlib inline\n",
        "\n",
        "# Libraries to connect a data file in the google drive to create the model on Google Colab.\n",
        "# While working on local computer no need for these libraries. \n",
        "from google.colab import files\n",
        "from google.colab import drive"
      ]
    },
    {
      "cell_type": "markdown",
      "source": [
        "## Load Data"
      ],
      "metadata": {
        "id": "lgELN5HIGB_d"
      }
    },
    {
      "cell_type": "code",
      "source": [
        "drive.mount('/content/gdrive') # While working on local computer no need for this function. "
      ],
      "metadata": {
        "colab": {
          "base_uri": "https://localhost:8080/"
        },
        "id": "GOGg9SbFEZtl",
        "outputId": "b97eb2b7-4efb-41eb-ba63-f98729bc2d8a"
      },
      "execution_count": 2,
      "outputs": [
        {
          "output_type": "stream",
          "name": "stdout",
          "text": [
            "Mounted at /content/gdrive\n"
          ]
        }
      ]
    },
    {
      "cell_type": "code",
      "source": [
        "# Special function to read and parse a .csv file and parse it. To see the structure type: pd.read_csv?\n",
        "df = pd.read_csv('/content/gdrive/My Drive/Colab Notebooks/Cluster-Analysis/Data/all_stocks_5yr.csv')\n",
        "df.shape"
      ],
      "metadata": {
        "colab": {
          "base_uri": "https://localhost:8080/"
        },
        "id": "izhI_c9vEb0r",
        "outputId": "a7335b7f-5056-4994-9db4-b3d1d1eb996e"
      },
      "execution_count": 3,
      "outputs": [
        {
          "output_type": "execute_result",
          "data": {
            "text/plain": [
              "(619040, 7)"
            ]
          },
          "metadata": {},
          "execution_count": 3
        }
      ]
    },
    {
      "cell_type": "markdown",
      "source": [
        "## Data Exploration (Exploratory Data Analysis - EDA)\n",
        "\n",
        "The goal here is to find out more about the data and become a subject matter export on the dataset you're working with.\n",
        "\n",
        "1. What question(s) are you trying to solve?\n",
        "2. What kind of data do we have and how do we treat different types?\n",
        "3. What's missing from the data and how do you deal with it?\n",
        "4. Where are the outliers and why should you care about them?\n",
        "5. How can you add, change or remove features to get more out of your data?"
      ],
      "metadata": {
        "id": "lFyCO9lMGGbT"
      }
    },
    {
      "cell_type": "code",
      "source": [],
      "metadata": {
        "id": "Ujj-HlhtEvgG"
      },
      "execution_count": null,
      "outputs": []
    }
  ]
}